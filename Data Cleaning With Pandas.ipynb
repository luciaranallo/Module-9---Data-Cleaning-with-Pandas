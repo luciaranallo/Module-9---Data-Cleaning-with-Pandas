{
 "cells": [
  {
   "cell_type": "code",
   "execution_count": 90,
   "id": "925a9283",
   "metadata": {},
   "outputs": [],
   "source": [
    "# Libraries\n",
    "import pandas as pd\n",
    "import matplotlib.pyplot as plt\n",
    "import numpy as np"
   ]
  },
  {
   "cell_type": "code",
   "execution_count": 91,
   "id": "2a8b50a9",
   "metadata": {},
   "outputs": [
    {
     "name": "stdout",
     "output_type": "stream",
     "text": [
      "   Unnamed: 0  year  month  day  dep_time  dep_delay  arr_time  arr_delay  \\\n",
      "0           1  2013      1    1     517.0        2.0     830.0       11.0   \n",
      "1           2  2013      1    1     533.0        4.0     850.0       20.0   \n",
      "2           3  2013      1    1     542.0        2.0     923.0       33.0   \n",
      "3           4  2013      1    1     544.0       -1.0    1004.0      -18.0   \n",
      "4           5  2013      1    1     554.0       -6.0     812.0      -25.0   \n",
      "5           6  2013      1    1     554.0       -4.0     740.0       12.0   \n",
      "6           7  2013      1    1     555.0       -5.0     913.0       19.0   \n",
      "7           8  2013      1    1     557.0       -3.0     709.0      -14.0   \n",
      "8           9  2013      1    1     557.0       -3.0     838.0       -8.0   \n",
      "9          10  2013      1    1     558.0       -2.0     753.0        8.0   \n",
      "\n",
      "  carrier tailnum  flight origin dest  air_time  distance  hour  minute  \n",
      "0      UA  N14228    1545    EWR  IAH     227.0      1400   5.0    17.0  \n",
      "1      UA  N24211    1714    LGA  IAH     227.0      1416   5.0    33.0  \n",
      "2      AA  N619AA    1141    JFK  MIA     160.0      1089   5.0    42.0  \n",
      "3      B6  N804JB     725    JFK  BQN     183.0      1576   5.0    44.0  \n",
      "4      DL  N668DN     461    LGA  ATL     116.0       762   5.0    54.0  \n",
      "5      UA  N39463    1696    EWR  ORD     150.0       719   5.0    54.0  \n",
      "6      B6  N516JB     507    EWR  FLL     158.0      1065   5.0    55.0  \n",
      "7      EV  N829AS    5708    LGA  IAD      53.0       229   5.0    57.0  \n",
      "8      B6  N593JB      79    JFK  MCO     140.0       944   5.0    57.0  \n",
      "9      AA  N3ALAA     301    LGA  ORD     138.0       733   5.0    58.0  \n"
     ]
    }
   ],
   "source": [
    "# Importing Data\n",
    "flights_data = pd.read_csv('flights.csv')\n",
    "print(flights_data.head(10))\n",
    "weather_data_pd = pd.read_csv('weather.csv')\n",
    "# Pandas Data Filtering/Sorting Question Answering\n",
    "#use flights_data"
   ]
  },
  {
   "cell_type": "code",
   "execution_count": 92,
   "id": "baaf7e2f",
   "metadata": {},
   "outputs": [
    {
     "name": "stdout",
     "output_type": "stream",
     "text": [
      "Question 1: There were 2113 flights from JFK to SLC.\n"
     ]
    }
   ],
   "source": [
    "#Question 1 How many flights were there from JFK to SLC? Int\n",
    "\n",
    "#creates a dataframe including only the flights that left JFK and arrived at SLC\n",
    "jfk = flights_data[(flights_data.origin == \"JFK\") & (flights_data.dest == \"SLC\")]\n",
    "#calculates the length of the newly created dataframe\n",
    "q_1 = len(jfk)\n",
    "print(\"Question 1: There were\",q_1,\"flights from JFK to SLC.\")"
   ]
  },
  {
   "cell_type": "code",
   "execution_count": 93,
   "id": "5acceb58",
   "metadata": {},
   "outputs": [
    {
     "name": "stdout",
     "output_type": "stream",
     "text": [
      "Question 2: There are 2 airlines that fly to SLC.\n"
     ]
    }
   ],
   "source": [
    "#Question 2 How many airlines fly to SLC? Should be int\n",
    "\n",
    "#creates a dataframe including only the airlines with SLC as a destination\n",
    "slc = flights_data[(flights_data.dest == \"SLC\")]\n",
    "#filters the dataframe for unique airlines\n",
    "slcAirline = slc.drop_duplicates(subset = [\"carrier\"])\n",
    "#calculates the length of the dataframe\n",
    "q_2 = len(slcAirline)\n",
    "print(\"Question 2: There are\",q_2,\"airlines that fly to SLC.\")"
   ]
  },
  {
   "cell_type": "code",
   "execution_count": 94,
   "id": "6da04d56",
   "metadata": {},
   "outputs": [
    {
     "name": "stdout",
     "output_type": "stream",
     "text": [
      "Question 3: The average arrival delay for flights to RDU is: 10.05 minutes.\n"
     ]
    }
   ],
   "source": [
    "#Question 3 What is the average arrival delay for flights to RDU? float\n",
    "\n",
    "#creates a dataframe of flights going to RDU\n",
    "rdu = flights_data[flights_data.dest == \"RDU\"]\n",
    "#calculates average delay for the flights\n",
    "delay = rdu[\"arr_delay\"].mean()\n",
    "q_3 = round(delay,2)\n",
    "print(\"Question 3: The average arrival delay for flights to RDU is:\",q_3,\"minutes.\")"
   ]
  },
  {
   "cell_type": "code",
   "execution_count": 95,
   "id": "dd9e9ed9",
   "metadata": {},
   "outputs": [
    {
     "name": "stdout",
     "output_type": "stream",
     "text": [
      "Question 4: The proportion of flights to SEA that come from the two NYC airports is: 0.53\n"
     ]
    }
   ],
   "source": [
    "#Question 4 What proportion of flights to SEA come from the two NYC airports (LGA and JFK)?  float\n",
    "\n",
    "#subset the flights that go to SEA\n",
    "sea = flights_data[(flights_data.dest == \"SEA\")]\n",
    "#subset the flights that come from the two NYC airports\n",
    "nyc = sea[(sea.origin == \"LGA\") | (sea.origin == \"JFK\")]\n",
    "#calculate lengths of each dataset\n",
    "seaLength = len(sea)\n",
    "nycLength = len(nyc)\n",
    "#calculate the proportion\n",
    "prop = nycLength/seaLength\n",
    "q_4 = round(prop,2)\n",
    "print(\"Question 4: The proportion of flights to SEA that come from the two NYC airports is:\",q_4)"
   ]
  },
  {
   "cell_type": "code",
   "execution_count": 96,
   "id": "76228276",
   "metadata": {},
   "outputs": [
    {
     "name": "stdout",
     "output_type": "stream",
     "text": [
      "Question 5: The date with the largest average departure delay is: 2013/3/8\n",
      "The delay is: 83.54 minutes\n"
     ]
    }
   ],
   "source": [
    "#Question 5 Which date has the largest average depature delay? Pd slice with date and float\n",
    "#please make date a column. Preferred format is 2013/1/1 (y/m/d)\n",
    "\n",
    "#create a dataframe containing just the day variables\n",
    "date = flights_data.iloc[0:, 1:4]\n",
    "#create a new column in the original dataframe combining the year, month, and date with \"/\" between\n",
    "#the variables must be strings to include the \"/\" character between them\n",
    "flights_data[\"date\"] = date['year'].astype(str) + \"/\" + date['month'].astype(str) + \"/\" + date['day'].astype(str)\n",
    "#calculate the average departure delay after grouping by date\n",
    "avgdep = flights_data.groupby('date').mean()\n",
    "#sort the dateframe by departure delay\n",
    "avgdep_sort = avgdep.sort_values('dep_delay', ascending = False)\n",
    "#select the date at index 0, corresponding to the largest departure delay\n",
    "q_5 = avgdep_sort.index[0]\n",
    "#select the cell including the departure delay value\n",
    "q_5_2 = round(avgdep_sort.iloc[0,5],2)\n",
    "print(\"Question 5: The date with the largest average departure delay is:\",q_5)\n",
    "print(\"The delay is:\",q_5_2,\"minutes\")"
   ]
  },
  {
   "cell_type": "code",
   "execution_count": 101,
   "id": "49206380",
   "metadata": {},
   "outputs": [
    {
     "name": "stdout",
     "output_type": "stream",
     "text": [
      "Question 6: The date with the largest average arrival delay is: 2013/3/8\n",
      "The delay is: 85.86 minutes.\n"
     ]
    }
   ],
   "source": [
    "#Question 6 Which date has the largest average arrival delay? pd slice with date and float\n",
    "\n",
    "#using the date column created in question 5, average values again\n",
    "avgarr = flights_data.groupby('date').mean()\n",
    "#sort the dataframe by arrival delay\n",
    "avgarr_sort = avgarr.sort_values('arr_delay', ascending = False)\n",
    "#select the date at index 0, corresponding to the largest arrival delay\n",
    "q_6 = avgarr_sort.index[0]\n",
    "#select the cell containing the arrival delay value\n",
    "q_6_2 = round(avgarr_sort.iloc[0,7],2)\n",
    "print(\"Question 6: The date with the largest average arrival delay is:\",q_6)\n",
    "print(\"The delay is:\",q_6_2,\"minutes.\")"
   ]
  },
  {
   "cell_type": "code",
   "execution_count": 115,
   "id": "96085076",
   "metadata": {},
   "outputs": [
    {
     "name": "stdout",
     "output_type": "stream",
     "text": [
      "Question 7: The flight departing LGA or JFK that flew the fastest in 2013 was flight N666DN\n",
      "The speed of this flight was: 11.72\n"
     ]
    }
   ],
   "source": [
    "#Question 7 Which flight departing LGA or JFK in 2013 flew the fastest? pd slice with tailnumber and speed\n",
    "#speed = distance/airtime\n",
    "\n",
    "#subset the data to contain the flights departing LGA or JFK\n",
    "flights = flights_data[(flights_data.origin == \"LGA\") | (flights_data.origin == \"JFK\")]\n",
    "#select only the flights in 2013\n",
    "flights2 = flights[flights.year == 2013]\n",
    "#calculate the speed\n",
    "flights2['speed'] = (flights.distance/flights.air_time)\n",
    "#sort by speed\n",
    "flights2_sort = flights2.sort_values('speed', ascending = False)\n",
    "#select the flight number of the fastest flight\n",
    "q_7 = flights2_sort.iloc[0,9]\n",
    "#select the speed of the fastest flight\n",
    "q_7_2 = round(flights2_sort.iloc[0,18],2)\n",
    "print(\"Question 7: The flight departing LGA or JFK that flew the fastest in 2013 was flight\",q_7)\n",
    "print(\"The speed of this flight was:\",q_7_2)"
   ]
  },
  {
   "cell_type": "code",
   "execution_count": 122,
   "id": "daa0c39b",
   "metadata": {},
   "outputs": [
    {
     "name": "stdout",
     "output_type": "stream",
     "text": [
      "Question 8: (True/False) There are null values in the weather dataset: False\n"
     ]
    }
   ],
   "source": [
    "#Question 8 Replace all nans in the weather pd dataframe with 0s. Pd with no nans\n",
    "\n",
    "#fill the NAns in the dataframe with 0s\n",
    "weather2 = weather_data_pd.fillna(value = 0)\n",
    "#gives a Bool value indicating whether there are any NA values\n",
    "q_8 = weather2.isnull().values.any()\n",
    "print(\"Question 8: (True/False) There are null values in the weather dataset:\", q_8)"
   ]
  },
  {
   "cell_type": "code",
   "execution_count": 148,
   "id": "dd2db675",
   "metadata": {},
   "outputs": [
    {
     "data": {
      "text/plain": [
       "array([[1, 'EWR', 2013, ..., 0.0, 1013.9, 10.0],\n",
       "       [2, 'EWR', 2013, ..., 0.0, 1013.0, 10.0],\n",
       "       [3, 'EWR', 2013, ..., 0.0, 1012.6, 10.0],\n",
       "       ...,\n",
       "       [8717, 'JFK', 2013, ..., 0.0, 1008.5, 10.0],\n",
       "       [8718, 'JFK', 2013, ..., 0.0, 1023.9, 10.0],\n",
       "       [8719, 'LGA', 2013, ..., 0.0, 1011.9, 10.0]], dtype=object)"
      ]
     },
     "execution_count": 148,
     "metadata": {},
     "output_type": "execute_result"
    }
   ],
   "source": [
    "#Numpy Data Filtering/Sorting Question Answering\n",
    "#Use weather_data_np\n",
    "weather_data_np = weather_data_pd.to_numpy()\n",
    "weather_data_np"
   ]
  },
  {
   "cell_type": "code",
   "execution_count": 135,
   "id": "da5deac5",
   "metadata": {},
   "outputs": [
    {
     "name": "stdout",
     "output_type": "stream",
     "text": [
      "There were 671 observations made in February.\n"
     ]
    }
   ],
   "source": [
    "#Question 9 How many observations were made in February? Int\n",
    "\n",
    "#filter for arrays with the month equaling 2.0 or February\n",
    "weather2 = weather_data_np[weather_data_np[:,3] == 2.0]\n",
    "q_9 = len(weather2)\n",
    "print(\"There were\",q_9,\"observations made in February.\")"
   ]
  },
  {
   "cell_type": "code",
   "execution_count": 143,
   "id": "56fea412",
   "metadata": {},
   "outputs": [
    {
     "name": "stdout",
     "output_type": "stream",
     "text": [
      "The average humidity in February was 62.92\n"
     ]
    }
   ],
   "source": [
    "#Question 10 What was the mean for humidity in February? Float\n",
    "\n",
    "#using the array that filtered for February created in question 9, select only the humidity column\n",
    "weather3 = weather2[:,8]\n",
    "#calculate the average of the values\n",
    "q_10 = round(weather3.mean(),2)\n",
    "print(\"The average humidity in February was\",q_10)"
   ]
  },
  {
   "cell_type": "code",
   "execution_count": 147,
   "id": "7f51796d",
   "metadata": {},
   "outputs": [
    {
     "name": "stdout",
     "output_type": "stream",
     "text": [
      "The standard deviation for humidity in Febrary was 20.34\n"
     ]
    }
   ],
   "source": [
    "#Question 11 What was the std for humidity in February? Float\n",
    "\n",
    "#use the array created in question 10 that includes only the humidity column for all the February observations\n",
    "q_11 = round(np.std(weather3),2)\n",
    "print(\"The standard deviation for humidity in Febrary was\",q_11)"
   ]
  }
 ],
 "metadata": {
  "kernelspec": {
   "display_name": "Python 3 (ipykernel)",
   "language": "python",
   "name": "python3"
  },
  "language_info": {
   "codemirror_mode": {
    "name": "ipython",
    "version": 3
   },
   "file_extension": ".py",
   "mimetype": "text/x-python",
   "name": "python",
   "nbconvert_exporter": "python",
   "pygments_lexer": "ipython3",
   "version": "3.8.13"
  }
 },
 "nbformat": 4,
 "nbformat_minor": 5
}
